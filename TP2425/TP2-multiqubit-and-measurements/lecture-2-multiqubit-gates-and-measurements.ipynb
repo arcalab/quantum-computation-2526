{
 "cells": [
  {
   "cell_type": "markdown",
   "metadata": {},
   "source": [
    "##### Quantum Computing 2024/2025\n",
    "### Lecture 2 - Multiqubit gates and measurements"
   ]
  },
  {
   "cell_type": "markdown",
   "metadata": {},
   "source": [
    "<!-- no toc -->\n",
    "### Contents \n",
    "\n",
    "1. [Multi-qubit quantum gates](#1.Multi-qubit-quantum-gates)\n",
    "2. [Pauli rotation gates](#2.Pauli-rotation-gates)\n",
    "3. [Expectation value of observables](#3.Expectation-values-of-observables)"
   ]
  },
  {
   "cell_type": "markdown",
   "metadata": {},
   "source": [
    "### 1. Multi-qubit quantum gates <a id=\"multi-qubit\"></a>"
   ]
  },
  {
   "cell_type": "markdown",
   "metadata": {},
   "source": [
    "- CNOT gate - Controlled-NOT gate (XOR gate)\n",
    "- Toffoli gate - Controlled-Controlled-NOT gate\n",
    "  \n",
    "```python\n",
    "\n",
    "dev = qml.device(\"default.qubit\", wires=2)\n",
    "\n",
    "@qml.qnode(dev)\n",
    "def circuit():\n",
    "    qml.CNOT(wires=[0, 1])\n",
    "    return \n",
    "\n",
    "# qubit 0 is the control qubit and qubit 1 is the target qubit\n",
    "\n",
    "\n",
    "dev = qml.device(\"default.qubit\", wires=3)\n",
    "\n",
    "@qml.qnode(dev)\n",
    "def circuit():\n",
    "    qml.Toffoli(wires=[0, 1, 2])\n",
    "    return \n",
    "\n",
    "# qubit 0 and 1 are the control qubits and qubit 2 is the target qubit\n",
    "```\n"
   ]
  },
  {
   "cell_type": "code",
   "execution_count": 1,
   "metadata": {},
   "outputs": [],
   "source": [
    "import pennylane as qml\n",
    "from pennylane import numpy as np"
   ]
  },
  {
   "cell_type": "markdown",
   "metadata": {},
   "source": [
    "#### What if we want to apply a multi-qubit CNOT gate?\n",
    "\n",
    "```python\n",
    "\n",
    "dev = qml.device(\"default.qubit\", wires=5)\n",
    "\n",
    "@qml.qnode(dev)\n",
    "def circuit():\n",
    "    qml.MultiControlledX(control_wires=[0, 1, 2, 3], wires=4)\n",
    "    return \n",
    "\n",
    "# qubits 0, 1, 2 and 3 are the control qubits and qubit 4 is the target qubit\n",
    "\n",
    "```\n",
    "\n"
   ]
  },
  {
   "cell_type": "code",
   "execution_count": null,
   "metadata": {},
   "outputs": [],
   "source": [
    "# Apply the Multi-Controlled X gate to 10 qubits and visualize the circuit"
   ]
  },
  {
   "cell_type": "markdown",
   "metadata": {},
   "source": [
    "#### Target gates do not need to be X gates\n",
    "\n",
    "```python\n",
    "\n",
    "dev = qml.device(\"default.qubit\", wires=2)\n",
    "\n",
    "# Define a controlled Hadamard gate\n",
    "\n",
    "@qml.qnode(dev)\n",
    "def circuit():\n",
    "    qml.CH(wires=[0, 1])\n",
    "    return\n",
    "\n",
    "# Define a controlled phase flip\n",
    "\n",
    "@qml.qnode(dev)\n",
    "def circuit():\n",
    "    qml.CZ(wires=[0, 1])\n",
    "    return\n",
    "\n",
    "# Any Pauli rotation gate can be used as a target gate\n",
    "\n",
    "@qml.qnode(dev)\n",
    "def circuit():\n",
    "    qml.CRY(theta, wires=[0, 1])\n",
    "    qml.CRX(theta, wires=[0, 1])\n",
    "    qml.CRZ(theta, wires=[0, 1])\n",
    "    return\n",
    "\n",
    "```"
   ]
  },
  {
   "cell_type": "markdown",
   "metadata": {},
   "source": [
    "#### We can generate any controlled gate for arbitrary non-adjacent control qubits\n",
    "\n",
    "```python\n",
    "\n",
    "n_qubits = ...\n",
    "ctrl_wires = []\n",
    "ctrl_values = []\n",
    "dev = qml.device(\"default.qubit\", wires=n_qubits)\n",
    "\n",
    "@qml.qnode(dev)\n",
    "def circuit():\n",
    "    qml.ControlledQubitUnitary(U, control_wires=ctrl_wires, control_values=ctrl_values, wires=target_wire)\n",
    "    return\n",
    "\n",
    "# where U is the unitary matrix of the gate we want to apply or just a pennylane gate for instance qml.Hadamard(wires=2)\n",
    "``"
   ]
  },
  {
   "cell_type": "code",
   "execution_count": null,
   "metadata": {},
   "outputs": [],
   "source": [
    "# Implement controlled-Z gate for 3 qubits applying the Z gate to the second qubit\n"
   ]
  },
  {
   "cell_type": "markdown",
   "metadata": {},
   "source": [
    "#### Verify that the multi controlled operation produces the matrix \n",
    "\n",
    "```python\n",
    "\n",
    "qml.ControlledQubitUnitary(qml.PauliZ(1), control_wires=[0, 2],control_values=[1, 1]).matrix()\n",
    "\n",
    "```"
   ]
  },
  {
   "cell_type": "markdown",
   "metadata": {},
   "source": [
    "### 2. Pauli rotation gates <a id=\"pauli-rotation\"></a>\n"
   ]
  },
  {
   "cell_type": "markdown",
   "metadata": {},
   "source": [
    "Recall that the unitary matrix can be represented through the exponential of the Pauli matrices, \n",
    "\n",
    "$$\n",
    "U(\\theta) = e^{-i \\frac{\\theta}{2} P}\n",
    "$$\n",
    "for $P \\in \\{I, X, Y, Z\\}$. In addition, multiple qubit interactions can written as tensor products of Pauli matrices, where now $P \\in \\{I, X, Y, Z\\}^{\\otimes n}$.\n",
    "\n",
    "Pennylane support $n$-qubit interactions through Pauli strings, \n",
    "\n",
    "\n",
    "```python\n",
    "\n",
    "dev = qml.device(\"default.qubit\", wires=4)\n",
    "Pauli_string = \"IXXI\"\n",
    "\n",
    "@qml.qnode(dev)\n",
    "def circuit():\n",
    "    qml.PauliRot(theta, Pauli_string, wires=[0, 1, 2, 3])\n",
    "    return\n",
    "\n",
    "```\n",
    "\n"
   ]
  },
  {
   "cell_type": "code",
   "execution_count": 50,
   "metadata": {},
   "outputs": [],
   "source": [
    "# Implement an RZZ gate with angle theta for 2 qubits and identify if the state is entangled\n"
   ]
  },
  {
   "cell_type": "markdown",
   "metadata": {},
   "source": [
    "### 3. Expectation values of observables <a id=\"expectation-values\"></a>"
   ]
  },
  {
   "cell_type": "markdown",
   "metadata": {},
   "source": [
    "In classical mechanics, for an experiment E with a set of events $E = {e_1, \\dots, e_k}$ each occurring with probability $p_i$, the expectation value of the experiment is given by\n",
    "\n",
    "$$\n",
    "\\langle E \\rangle = \\sum_{i=1}^{k} p_i e_i\n",
    "$$\n",
    "\n",
    "In quantum mechanics, the expectation value is with respect to an observable $A$ and a quantum state $|\\psi\\rangle$ is given by\n",
    "\n",
    "$$\n",
    "\\langle O \\rangle = \\langle \\psi | O | \\psi \\rangle\n",
    "$$\n",
    "\n",
    "where $O$ is a Hermitian operator, also known as the *observable*. Each observable can be decomposed by the projectors in the eigenbasis of the operator,\n",
    "\n",
    "$$\n",
    "O = \\sum_{i} o_i | \\psi_i \\rangle \\langle \\psi_i |\n",
    "$$\n",
    "\n",
    "where $o_i$ are the eigenvalues of the operator $O$ and $| \\psi_i \\rangle$ are the eigenvectors of the operator $O$. For the computational basis measurement, the eigenvalues are $\\pm 1$ and the eigenvectors are the computational basis states $|0\\rangle$ and $|1\\rangle$. Therefore, the expectation value of an observable $O$ can be written as\n",
    "\n",
    "$$\n",
    "\\langle O \\rangle = \\langle \\psi | O | \\psi \\rangle = \\langle \\psi | 0 \\rangle \\langle 0 | \\psi \\rangle - \\langle \\psi | 1 \\rangle \\langle 1 | \\psi \\rangle = p_0 - p_1\n",
    "$$\n",
    "Everytime we measure the state we get either $|0\\rangle$ or $|1\\rangle$, the expectation value of an observable in a different basis can be calculated by changing the basis of the observable. In pennylane, the change of basis can be directly returned as the measurement, \n",
    "\n",
    "```python\n",
    "\n",
    "dev = qml.device(\"default.qubit\", wires=0)\n",
    "\n",
    "@qml.qnode(dev)\n",
    "def circuit():\n",
    "    return qml.expval(qml.PauliZ(1))\n",
    "\n",
    "# that returns the expectation value of the PauliZ observable in the second qubit.\n",
    "\n",
    "Any Pauli observable can be measured in the same way, \n",
    "\n",
    "qml.expval(qml.PauliX(1))\n",
    "qml.expval(qml.PauliY(1))\n"
   ]
  },
  {
   "cell_type": "markdown",
   "metadata": {},
   "source": [
    "Consider the state $|\\psi\\rangle = \\cos(\\frac{\\theta}{2})|0\\rangle + \\sin(\\frac{\\theta}{2})|1\\rangle$, for an arbitrary value of $\\theta$ and verify if the the expectation value of the PauliZ observable results in the same expression considering the projectors and probabilities of the eigenbasis of the operator."
   ]
  },
  {
   "cell_type": "code",
   "execution_count": null,
   "metadata": {},
   "outputs": [],
   "source": [
    "# your code here"
   ]
  },
  {
   "cell_type": "markdown",
   "metadata": {},
   "source": [
    "Let $|\\psi\\rangle = \\cos(\\frac{\\theta}{2})|0\\rangle + \\sin(\\frac{\\theta}{2})|1\\rangle$. Prove that the expectation value of the PauliX observable is given by, \n",
    "\n",
    "$$\n",
    "\\langle \\psi | X | \\psi \\rangle = 2\\cos(\\frac{\\theta}{2})\\sin(\\frac{\\theta}{2})\n",
    "$$\n",
    "\n",
    "and verify the result using pennylane."
   ]
  },
  {
   "cell_type": "code",
   "execution_count": 51,
   "metadata": {},
   "outputs": [],
   "source": [
    "# your code here"
   ]
  },
  {
   "cell_type": "markdown",
   "metadata": {},
   "source": [
    "For $|\\psi\\rangle = \\cos(\\frac{\\theta}{2})|0\\rangle + \\sin(\\frac{\\theta}{2})|1\\rangle$ , what should be the value of $\\langle \\psi | Y | \\psi \\rangle$? What if $|\\psi\\rangle = \\cos(\\frac{\\theta}{2})|0\\rangle + i \\sin(\\frac{\\theta}{2})|1\\rangle$?\n",
    "\n",
    "Verify the results using pennylane."
   ]
  },
  {
   "cell_type": "code",
   "execution_count": null,
   "metadata": {},
   "outputs": [],
   "source": [
    "# your code here"
   ]
  },
  {
   "cell_type": "markdown",
   "metadata": {},
   "source": [
    "#### Tensor product observables \n",
    "\n",
    "The expectation value of a tensor product of observables can be easily estimated in pennylane by using the tensor product of the observables, \n",
    "\n",
    "```python\n",
    "\n",
    "dev = qml.device(\"default.qubit\", wires=3)\n",
    "\n",
    "@qml.qnode(dev)\n",
    "def circuit():\n",
    "    return qml.expval(qml.PauliZ(0) @ qml.PauliX(1) @ qml.PauliY(2))\n",
    "\n",
    "# where @ is the tensor product operator\n",
    "\n",
    "# in general for n qubits , the Z observable is the tensor product \n",
    "\n",
    "n_qubits = 5 \n",
    "\n",
    "obs = qml.PauliZ(0)\n",
    "for i in range(1, n_qubits):\n",
    "    obs = obs @ qml.PauliZ(i)\n",
    "\n",
    "@qml.qnode(dev)\n",
    "def circuit():\n",
    "    return qml.expval(obs)\n",
    "\n",
    "\n",
    "```\n"
   ]
  },
  {
   "cell_type": "markdown",
   "metadata": {},
   "source": [
    "For an arbitrary $n$-qubit state $|\\psi\\rangle$ , prove that the expectation value of the operator $O = \\bigotimes_{i=0}^{n-1} Z_i$ is given by: \n",
    "\n",
    "$$\\langle O \\rangle = \\langle \\psi|O| \\psi \\rangle = \\sum_{i=0}^{2^n -1} (-1)^{H(i)\\ mod\\ 2} P_i$$\n",
    "\n",
    "where $P_{i}$ and $H(i)$ are the probability and *Hamming weight*, associated to basis state $|i\\rangle$.\n",
    "\n",
    "Note: Hamming weight - # of ones in a bitstring.  \n",
    "\n",
    "Compute the expectation value $\\langle \\psi|O| \\psi \\rangle$ for the the state $|\\psi\\rangle = \\sqrt{0.7}|001\\rangle + \\sqrt{0.3}|010\\rangle$ from executing the quantum circuit in pennylane and compare the result with the theoretical prediction."
   ]
  },
  {
   "cell_type": "code",
   "execution_count": null,
   "metadata": {},
   "outputs": [],
   "source": [
    "# your code here"
   ]
  }
 ],
 "metadata": {
  "kernelspec": {
   "display_name": "jaxqrl",
   "language": "python",
   "name": "python3"
  },
  "language_info": {
   "codemirror_mode": {
    "name": "ipython",
    "version": 3
   },
   "file_extension": ".py",
   "mimetype": "text/x-python",
   "name": "python",
   "nbconvert_exporter": "python",
   "pygments_lexer": "ipython3",
   "version": "3.9.18"
  }
 },
 "nbformat": 4,
 "nbformat_minor": 2
}
