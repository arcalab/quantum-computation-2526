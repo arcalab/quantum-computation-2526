{
 "cells": [
  {
   "cell_type": "markdown",
   "id": "advance-helmet",
   "metadata": {},
   "source": [
    "##### Quantum Computing 2024/2025\n",
    "### Lecture 6 - Quantum Fourier Transform\n",
    "\n",
    "\n",
    "1. [Quantum Fourier Transform - introduction](#QFT-intro)\n",
    "2. [QFT circuit](#QFT-nqubits)"
   ]
  },
  {
   "cell_type": "markdown",
   "id": "27b6e2e3",
   "metadata": {},
   "source": [
    "#### 1. Quantum Fourier Transform - introduction <a id=\"QFT-intro\"></a>\n",
    "\n",
    "\n",
    "The discrete Fourier transform acts on a vector $(x_0, ..., x_{N-1})$ and maps it to the vector $(y_0, ..., y_{N-1})$ according to the formula\n",
    "\n",
    "\n",
    "$$y_k = \\sum_{j=0}^{N-1}x_je^{2\\pi i \\frac{jk}{N}}$$\n",
    "\n",
    "Similarly, the quantum Fourier transform acts on a quantum state $\\vert X\\rangle = \\sum_{j=0}^{N-1} x_j \\vert j \\rangle$ and maps it to the quantum state $\\vert Y\\rangle = \\sum_{k=0}^{N-1} y_k \\vert k \\rangle$ according to the formula\n",
    "\n",
    "\n",
    "$$y_k = \\frac{1}{\\sqrt{N}}\\sum_{j=0}^{N-1}x_je^{2\\pi i \\frac{jk}{N}}$$\n",
    "\n",
    "\n",
    "This can also be expressed as the map:\n",
    "\n",
    "\n",
    "$$\\vert j \\rangle \\mapsto \\frac{1}{\\sqrt{N}}\\sum_{k=0}^{N-1}e^{2\\pi i \\frac{jk}{N}} \\vert k \\rangle$$"
   ]
  },
  {
   "cell_type": "markdown",
   "id": "60624038",
   "metadata": {},
   "source": []
  },
  {
   "cell_type": "markdown",
   "id": "059c7b47",
   "metadata": {},
   "source": [
    "#### 2. QFT circuit <a id=\"QFT-nqubits\"></a>\n",
    "###### use pennylane's qml.ControlledPhaseShift(phi, wires) to implement the controlled phase shift gate\n"
   ]
  },
  {
   "cell_type": "code",
   "execution_count": null,
   "id": "823460ba",
   "metadata": {},
   "outputs": [],
   "source": []
  }
 ],
 "metadata": {
  "kernelspec": {
   "display_name": "jaxqrl",
   "language": "python",
   "name": "python3"
  },
  "language_info": {
   "codemirror_mode": {
    "name": "ipython",
    "version": 3
   },
   "file_extension": ".py",
   "mimetype": "text/x-python",
   "name": "python",
   "nbconvert_exporter": "python",
   "pygments_lexer": "ipython3",
   "version": "3.9.18"
  }
 },
 "nbformat": 4,
 "nbformat_minor": 5
}
