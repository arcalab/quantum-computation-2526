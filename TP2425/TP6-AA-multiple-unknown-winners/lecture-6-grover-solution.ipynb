{
 "cells": [
  {
   "cell_type": "markdown",
   "id": "advance-helmet",
   "metadata": {},
   "source": [
    "##### Quantum Computing 2024/2025\n",
    "### Lecture 5 - Grover's Algorithm\n",
    "\n",
    "\n",
    "1. [Grover's Algorithm](#Grover) <p>\n",
    "   a.  [Unstructured search](#unstructured-search) <p>\n",
    "   b.  [Oracle](#oracle_intro) <p>\n",
    "   c.  [Amplitude Amplification](#amplitude_amp) <p>\n",
    "2. [Grover's algorithm with 2 qubits](#grover2)\n",
    "3. [Grover's algorithm with 3 qubits](#grover3)\n",
    "4. [Removing the ancilla](#ancilla)\n",
    "5. [Uknown number of solutions](#unknown)"
   ]
  },
  {
   "cell_type": "markdown",
   "id": "aed9076f",
   "metadata": {},
   "source": [
    "## 1. Grover's algorithm <a id=\"grover\"></a>"
   ]
  },
  {
   "attachments": {},
   "cell_type": "markdown",
   "id": "5ba8a226",
   "metadata": {},
   "source": [
    "Grover's algorithm is one of the most powerful quantum algorithms. The algorithm is known for a quadratic speed up in searching for an element in an **unstructured database**. \n",
    "\n",
    "Grover's algorithm can be used in any problem that can be restated as an unstructured search problem:\n",
    "\n",
    "* Finding minimum/maximum/mean \n",
    "* Collision problem \n",
    "* Satisfiability \n",
    "* Optimization in general. "
   ]
  },
  {
   "cell_type": "markdown",
   "id": "3504b7fd",
   "metadata": {},
   "source": [
    "### a. Unstructured Search <a id=\"unstructured-search\"></a>\n",
    "\n",
    "Suppose you have an array of $N$ items. Consider that $w$ for winner is the element we want to find. \n",
    "\n",
    "![image1](images/list.png)\n",
    "\n",
    "Classic $\\quad \\Rightarrow \\quad \\mathcal{O}(N)$\n",
    "\n",
    "Quantum $\\quad \\Rightarrow \\quad \\mathcal{O}(\\sqrt{N})$"
   ]
  },
  {
   "cell_type": "markdown",
   "id": "0ef253e9",
   "metadata": {},
   "source": [
    "### b. Oracle\n",
    "\n",
    "Notice that we want to exploit the superposition principle, therefore, all entries in the above database will happen at the same time! Thus, for us, the database is composed by all computational basis states our qubits can be in.\n",
    "\n",
    "The oracle $U_w$ adds a negative phase to the solution states i.e. for any state $|x\\rangle$ in the computational basis corresponding to the winner:\n",
    "\n",
    "$$\n",
    "U_\\omega|x\\rangle = \\bigg\\{\n",
    "\\begin{aligned}\n",
    "\\phantom{-}|x\\rangle \\quad \\text{if} \\; x \\neq \\omega \\\\\n",
    "-|x\\rangle \\quad \\text{if} \\; x = \\omega \\\\\n",
    "\\end{aligned}\n",
    "$$\n",
    "\n",
    "we can use an ancilla to store the result of the function! \n",
    "\n",
    "\n",
    "Similar to Deutsch-Jozsa, we initialize the 'output' qubit in the state $|{-}\\rangle$, and the phase kickback effect do the rest.\n",
    "</p><p>  \n",
    "\n",
    "![image1](images/function.png)\n"
   ]
  },
  {
   "cell_type": "markdown",
   "id": "a3b448fe",
   "metadata": {},
   "source": [
    "Now, the goal is to find a routine that amplifies the probability of measuring the winner state! "
   ]
  },
  {
   "cell_type": "markdown",
   "id": "ff07fff4",
   "metadata": {},
   "source": [
    "### c. Amplitude Amplification <a id=\"amplitude_amp\"></a>\n",
    "\n",
    "The Diffusion operator $D$ is a reflection about the mean of the amplitudes. It is defined as:\n",
    "\n",
    "$$D = 2|DB \\rangle \\langle DB| - I$$\n",
    "\n",
    "where |DB\\rangle is the database superposition quantum state. D amplifies the amplitude of the winner state.\n",
    "\n",
    "Full Grover's circuit is:\n",
    "![image5](images/full_circuit.png)"
   ]
  },
  {
   "cell_type": "markdown",
   "id": "32b60ee3",
   "metadata": {},
   "source": [
    "## 2. Grover's algorithm with 2 qubits <a id=\"grover2\"></a>"
   ]
  },
  {
   "cell_type": "markdown",
   "id": "ffecbba2",
   "metadata": {},
   "source": [
    "Let's suppose we want to find the state $|11\\rangle$.\n",
    "Build the Grover's algorithm and check the probabilities "
   ]
  },
  {
   "cell_type": "code",
   "execution_count": 3,
   "id": "e875b643",
   "metadata": {},
   "outputs": [],
   "source": [
    "import pennylane as qml\n",
    "from pennylane import numpy as np\n",
    "\n",
    "def grover(n_qubits, id):\n",
    "\n",
    "    #create registers \n",
    "    input_registers = range(n_qubits)\n",
    "    ancilla_register = [n_qubits]\n",
    "\n",
    "    #superposition\n",
    "    qml.broadcast(qml.Hadamard, wires=input_registers, pattern=\"single\")\n",
    "\n",
    "    qml.PauliX(wires=ancilla_register)\n",
    "    qml.Hadamard(wires=ancilla_register)\n",
    "\n",
    "    qml.Barrier()\n",
    "\n",
    "    #oracle\n",
    "    for i,k in enumerate(id):\n",
    "        if k == 0:\n",
    "            qml.PauliX(wires=input_registers[i])\n",
    "    qml.MultiControlledX(control_wires=input_registers, wires=ancilla_register)\n",
    "    for i,k in enumerate(id):\n",
    "        if k == 0:\n",
    "            qml.PauliX(wires=input_registers[i])\n",
    "\n",
    "    #or using the MultiControlledX gate with control state\n",
    "    #qml.MultiControlledX(control_wires=input_registers, wires=ancilla_register, control_values=id)\n",
    "\n",
    "    qml.Barrier()\n",
    "    \n",
    "    #diffusion\n",
    "    qml.broadcast(qml.Hadamard, wires=input_registers, pattern=\"single\")\n",
    "    qml.broadcast(qml.PauliX, wires=input_registers, pattern=\"single\")\n",
    "    qml.ControlledQubitUnitary(qml.PauliZ(input_registers[-1]), control_wires=input_registers[:-1])\n",
    "    qml.broadcast(qml.PauliX, wires=input_registers, pattern=\"single\")\n",
    "    qml.broadcast(qml.Hadamard, wires=input_registers, pattern=\"single\")\n",
    "\n",
    "    qml.Barrier()\n",
    "    \n",
    "\n",
    "    #measurement\n",
    "    return qml.probs(wires=input_registers)"
   ]
  },
  {
   "cell_type": "code",
   "execution_count": 2,
   "id": "c4c505a5",
   "metadata": {},
   "outputs": [
    {
     "name": "stderr",
     "output_type": "stream",
     "text": [
      "/opt/homebrew/Caskroom/miniforge/base/envs/jaxqrl/lib/python3.9/site-packages/pennylane/ops/op_math/controlled_ops.py:1103: UserWarning: The control_wires keyword for MultiControlledX is deprecated, and will be removed soon. Use wires = (*control_wires, target_wire) instead.\n",
      "  warnings.warn(\n"
     ]
    },
    {
     "data": {
      "text/plain": [
       "(<Figure size 1600x400 with 1 Axes>, <Axes: >)"
      ]
     },
     "execution_count": 2,
     "metadata": {},
     "output_type": "execute_result"
    },
    {
     "data": {
      "image/png": "[encoded data removed]",
      "text/plain": [
       "<Figure size 1600x400 with 1 Axes>"
      ]
     },
     "metadata": {},
     "output_type": "display_data"
    }
   ],
   "source": [
    "n_qubits = 2\n",
    "id = [0,1]\n",
    "\n",
    "dev = qml.device(\"default.qubit\", wires=n_qubits+1)\n",
    "\n",
    "Grover = qml.QNode(grover, dev)\n",
    "\n",
    "qml.draw_mpl(Grover)(n_qubits, id)"
   ]
  },
  {
   "cell_type": "code",
   "execution_count": 46,
   "id": "724cc469",
   "metadata": {},
   "outputs": [
    {
     "name": "stderr",
     "output_type": "stream",
     "text": [
      "/opt/homebrew/Caskroom/miniforge/base/envs/jaxqrl/lib/python3.9/site-packages/pennylane/ops/op_math/controlled_ops.py:1103: UserWarning: The control_wires keyword for MultiControlledX is deprecated, and will be removed soon. Use wires = (*control_wires, target_wire) instead.\n",
      "  warnings.warn(\n"
     ]
    },
    {
     "data": {
      "text/plain": [
       "Text(0.5, 1.0, 'Probability Distribution')"
      ]
     },
     "execution_count": 46,
     "metadata": {},
     "output_type": "execute_result"
    },
    {
     "data": {
      "image/png": "[encoded data removed]",
      "text/plain": [
       "<Figure size 640x480 with 1 Axes>"
      ]
     },
     "metadata": {},
     "output_type": "display_data"
    }
   ],
   "source": [
    "#Run the algorithm\n",
    "\n",
    "probs = Grover(n_qubits, id)\n",
    "\n",
    "#Visualize the probability histogram\n",
    "import matplotlib.pyplot as plt\n",
    "plt.bar([np.binary_repr(i, width=n_qubits) for i in range(2**n_qubits)], probs)\n",
    "plt.xlabel(\"Basis State\")\n",
    "plt.ylabel(\"Probability\")\n",
    "plt.yticks(probs)\n",
    "plt.title(\"Probability Distribution\")\n",
    "\n"
   ]
  },
  {
   "attachments": {},
   "cell_type": "markdown",
   "id": "510e8c57",
   "metadata": {},
   "source": [
    "## 3. Grover's algorithm with 3 qubits <a id=\"grover3\"></a>  \n"
   ]
  },
  {
   "attachments": {},
   "cell_type": "markdown",
   "id": "2804e264",
   "metadata": {},
   "source": [
    "Let's suppose we want to find the state $|011\\rangle$. Run Grover's algorithm and check the probabilities."
   ]
  },
  {
   "cell_type": "code",
   "execution_count": 55,
   "id": "f3422041",
   "metadata": {},
   "outputs": [
    {
     "name": "stderr",
     "output_type": "stream",
     "text": [
      "/opt/homebrew/Caskroom/miniforge/base/envs/jaxqrl/lib/python3.9/site-packages/pennylane/ops/op_math/controlled_ops.py:1103: UserWarning: The control_wires keyword for MultiControlledX is deprecated, and will be removed soon. Use wires = (*control_wires, target_wire) instead.\n",
      "  warnings.warn(\n"
     ]
    },
    {
     "data": {
      "text/plain": [
       "Text(0.5, 1.0, 'Probability Distribution')"
      ]
     },
     "execution_count": 55,
     "metadata": {},
     "output_type": "execute_result"
    },
    {
     "data": {
      "image/png": "[encoded data removed]",
      "text/plain": [
       "<Figure size 640x480 with 1 Axes>"
      ]
     },
     "metadata": {},
     "output_type": "display_data"
    }
   ],
   "source": [
    "#Run the algorithm\n",
    "\n",
    "n_qubits = 3\n",
    "id = [0,1,1]\n",
    "\n",
    "dev = qml.device(\"default.qubit\", wires=n_qubits+1)\n",
    "\n",
    "Grover = qml.QNode(grover, dev)\n",
    "\n",
    "probs = Grover(n_qubits, id)\n",
    "\n",
    "#Visualize the probability histogram\n",
    "import matplotlib.pyplot as plt\n",
    "plt.bar([np.binary_repr(i, width=n_qubits) for i in range(2**n_qubits)], probs)\n",
    "plt.xlabel(\"Basis State\")\n",
    "plt.ylabel(\"Probability\")\n",
    "plt.yticks(probs)\n",
    "plt.title(\"Probability Distribution\")\n",
    "\n"
   ]
  },
  {
   "cell_type": "markdown",
   "id": "d731d831",
   "metadata": {},
   "source": [
    "Let's amplify the probability of measuring the winner state!"
   ]
  },
  {
   "cell_type": "code",
   "execution_count": 3,
   "id": "b4f2bb47",
   "metadata": {},
   "outputs": [],
   "source": [
    "def grover(n_qubits, id, iterations=1):\n",
    "\n",
    "    #create registers \n",
    "    input_registers = range(n_qubits)\n",
    "    ancilla_register = [n_qubits]\n",
    "\n",
    "    #superposition\n",
    "    qml.broadcast(qml.Hadamard, wires=input_registers, pattern=\"single\")\n",
    "\n",
    "    qml.PauliX(wires=ancilla_register)\n",
    "    qml.Hadamard(wires=ancilla_register)\n",
    "\n",
    "    qml.Barrier()\n",
    "\n",
    "    for _ in range(iterations):\n",
    "        #oracle\n",
    "        for i,k in enumerate(id):\n",
    "            if k == 0:\n",
    "                qml.PauliX(wires=input_registers[i])\n",
    "        qml.MultiControlledX(control_wires=input_registers, wires=ancilla_register)\n",
    "        for i,k in enumerate(id):\n",
    "            if k == 0:\n",
    "                qml.PauliX(wires=input_registers[i])\n",
    "\n",
    "        #or using the MultiControlledX gate with control state\n",
    "        #qml.MultiControlledX(control_wires=input_registers, wires=ancilla_register, control_values=id)\n",
    "\n",
    "        qml.Barrier()\n",
    "        \n",
    "        #diffusion\n",
    "        qml.broadcast(qml.Hadamard, wires=input_registers, pattern=\"single\")\n",
    "        qml.broadcast(qml.PauliX, wires=input_registers, pattern=\"single\")\n",
    "        qml.ControlledQubitUnitary(qml.PauliZ(input_registers[-1]), control_wires=input_registers[:-1])\n",
    "        qml.broadcast(qml.PauliX, wires=input_registers, pattern=\"single\")\n",
    "        qml.broadcast(qml.Hadamard, wires=input_registers, pattern=\"single\")\n",
    "\n",
    "        qml.Barrier()\n",
    "    \n",
    "\n",
    "    #measurement\n",
    "    return qml.probs(wires=input_registers)"
   ]
  },
  {
   "cell_type": "code",
   "execution_count": 6,
   "id": "4e9b60f0",
   "metadata": {},
   "outputs": [
    {
     "name": "stderr",
     "output_type": "stream",
     "text": [
      "/opt/homebrew/Caskroom/miniforge/base/envs/jaxqrl/lib/python3.9/site-packages/pennylane/ops/op_math/controlled_ops.py:1103: UserWarning: The control_wires keyword for MultiControlledX is deprecated, and will be removed soon. Use wires = (*control_wires, target_wire) instead.\n",
      "  warnings.warn(\n"
     ]
    },
    {
     "data": {
      "text/plain": [
       "(<Figure size 2600x400 with 1 Axes>, <Axes: >)"
      ]
     },
     "execution_count": 6,
     "metadata": {},
     "output_type": "execute_result"
    },
    {
     "data": {
      "image/png": "[encoded data removed]",
      "text/plain": [
       "<Figure size 2600x400 with 1 Axes>"
      ]
     },
     "metadata": {},
     "output_type": "display_data"
    }
   ],
   "source": [
    "n_qubits = 2\n",
    "id = [0,1]\n",
    "itarations = 2\n",
    "\n",
    "dev = qml.device(\"default.qubit\", wires=n_qubits+1)\n",
    "\n",
    "Grover = qml.QNode(grover, dev)\n",
    "\n",
    "qml.draw_mpl(Grover)(n_qubits, id, iterations=itarations)"
   ]
  },
  {
   "cell_type": "code",
   "execution_count": 14,
   "id": "b22455d9",
   "metadata": {},
   "outputs": [
    {
     "name": "stderr",
     "output_type": "stream",
     "text": [
      "/opt/homebrew/Caskroom/miniforge/base/envs/jaxqrl/lib/python3.9/site-packages/pennylane/ops/op_math/controlled_ops.py:1103: UserWarning: The control_wires keyword for MultiControlledX is deprecated, and will be removed soon. Use wires = (*control_wires, target_wire) instead.\n",
      "  warnings.warn(\n"
     ]
    },
    {
     "data": {
      "text/plain": [
       "Text(0.5, 1.0, 'Probability Distribution')"
      ]
     },
     "execution_count": 14,
     "metadata": {},
     "output_type": "execute_result"
    },
    {
     "data": {
      "image/png": "[encoded data removed]",
      "text/plain": [
       "<Figure size 640x480 with 1 Axes>"
      ]
     },
     "metadata": {},
     "output_type": "display_data"
    }
   ],
   "source": [
    "#Run the algorithm\n",
    "\n",
    "probs = Grover(n_qubits, id, iterations=7)\n",
    "\n",
    "#Visualize the probability histogram\n",
    "import matplotlib.pyplot as plt\n",
    "plt.bar([np.binary_repr(i, width=n_qubits) for i in range(2**n_qubits)], probs)\n",
    "\n",
    "plt.xlabel(\"Basis State\")\n",
    "plt.ylabel(\"Probability\")\n",
    "plt.yticks(probs)\n",
    "plt.title(\"Probability Distribution\")\n",
    "\n"
   ]
  },
  {
   "cell_type": "markdown",
   "id": "02b5ff4a",
   "metadata": {},
   "source": [
    "Optimal number of iterations:"
   ]
  },
  {
   "cell_type": "code",
   "execution_count": 27,
   "id": "797efb86",
   "metadata": {},
   "outputs": [],
   "source": [
    "def grover(n_qubits, id, iterations=\"optimal\"):\n",
    "\n",
    "    #create registers \n",
    "    input_registers = range(n_qubits)\n",
    "    ancilla_register = [n_qubits]\n",
    "\n",
    "    #superposition\n",
    "    qml.broadcast(qml.Hadamard, wires=input_registers, pattern=\"single\")\n",
    "\n",
    "    qml.PauliX(wires=ancilla_register)\n",
    "    qml.Hadamard(wires=ancilla_register)\n",
    "\n",
    "    qml.Barrier()\n",
    "\n",
    "    if iterations == \"optimal\":\n",
    "        its = int(np.floor(np.pi/4*np.sqrt(2**n_qubits)))\n",
    "    else:\n",
    "        its = iterations\n",
    "        \n",
    "    for _ in range(its):\n",
    "        #oracle\n",
    "        for i,k in enumerate(id):\n",
    "            if k == 0:\n",
    "                qml.PauliX(wires=input_registers[i])\n",
    "        qml.MultiControlledX(control_wires=input_registers, wires=ancilla_register)\n",
    "        for i,k in enumerate(id):\n",
    "            if k == 0:\n",
    "                qml.PauliX(wires=input_registers[i])\n",
    "\n",
    "        #or using the MultiControlledX gate with control state\n",
    "        #qml.MultiControlledX(control_wires=input_registers, wires=ancilla_register, control_values=id)\n",
    "\n",
    "        qml.Barrier()\n",
    "        \n",
    "        #diffusion\n",
    "        qml.broadcast(qml.Hadamard, wires=input_registers, pattern=\"single\")\n",
    "        qml.broadcast(qml.PauliX, wires=input_registers, pattern=\"single\")\n",
    "        qml.ControlledQubitUnitary(qml.PauliZ(input_registers[-1]), control_wires=input_registers[:-1])\n",
    "        qml.broadcast(qml.PauliX, wires=input_registers, pattern=\"single\")\n",
    "        qml.broadcast(qml.Hadamard, wires=input_registers, pattern=\"single\")\n",
    "\n",
    "        qml.Barrier()\n",
    "    \n",
    "\n",
    "    #measurement\n",
    "    return qml.probs(wires=input_registers)"
   ]
  },
  {
   "cell_type": "code",
   "execution_count": 28,
   "id": "a91a7229",
   "metadata": {},
   "outputs": [
    {
     "name": "stderr",
     "output_type": "stream",
     "text": [
      "/opt/homebrew/Caskroom/miniforge/base/envs/jaxqrl/lib/python3.9/site-packages/pennylane/ops/op_math/controlled_ops.py:1103: UserWarning: The control_wires keyword for MultiControlledX is deprecated, and will be removed soon. Use wires = (*control_wires, target_wire) instead.\n",
      "  warnings.warn(\n"
     ]
    },
    {
     "data": {
      "text/plain": [
       "Text(0.5, 1.0, 'Probability Distribution')"
      ]
     },
     "execution_count": 28,
     "metadata": {},
     "output_type": "execute_result"
    },
    {
     "data": {
      "image/png": "[encoded data removed]",
      "text/plain": [
       "<Figure size 640x480 with 1 Axes>"
      ]
     },
     "metadata": {},
     "output_type": "display_data"
    }
   ],
   "source": [
    "#Run the algorithm\n",
    "\n",
    "n_qubits = 3\n",
    "id = [0,1,1]\n",
    "itarations = 6\n",
    "\n",
    "dev = qml.device(\"default.qubit\", wires=n_qubits+1)\n",
    "\n",
    "Grover = qml.QNode(grover, dev)\n",
    "\n",
    "probs = Grover(n_qubits, id, iterations=\"optimal\")\n",
    "\n",
    "#Visualize the probability histogram\n",
    "import matplotlib.pyplot as plt\n",
    "plt.bar([np.binary_repr(i, width=n_qubits) for i in range(2**n_qubits)], probs)\n",
    "\n",
    "plt.xlabel(\"Basis State\")\n",
    "plt.ylabel(\"Probability\")\n",
    "plt.yticks(probs)\n",
    "plt.title(\"Probability Distribution\")\n",
    "\n"
   ]
  },
  {
   "cell_type": "code",
   "execution_count": 29,
   "id": "71670722",
   "metadata": {},
   "outputs": [
    {
     "data": {
      "text/plain": [
       "0.9997863769531249"
      ]
     },
     "execution_count": 29,
     "metadata": {},
     "output_type": "execute_result"
    }
   ],
   "source": [
    "n_qubits = 3\n",
    "j=6\n",
    "np.sin((2*j + 1) * np.arcsin(1/np.sqrt(2**n_qubits)))**2"
   ]
  },
  {
   "cell_type": "code",
   "execution_count": 9,
   "id": "01cb0116",
   "metadata": {},
   "outputs": [
    {
     "data": {
      "text/plain": [
       "2"
      ]
     },
     "execution_count": 9,
     "metadata": {},
     "output_type": "execute_result"
    }
   ],
   "source": [
    "int(np.floor(np.pi/4*np.sqrt(2**n_qubits)))"
   ]
  },
  {
   "cell_type": "code",
   "execution_count": 14,
   "id": "87da18bc",
   "metadata": {},
   "outputs": [
    {
     "data": {
      "text/plain": [
       "tensor([0.2+0.j       , 0. +0.j       , 0. +0.j       , 0. +0.j       ,\n",
       "        0. +0.j       , 0. +0.j       , 0. +0.j       , 0. +0.j       ,\n",
       "        0. +0.j       , 0. +0.j       , 0. +0.j       , 0. +0.j       ,\n",
       "        0. +0.j       , 0. +0.j       , 0. +0.j       , 0. +0.j       ,\n",
       "        0. +0.j       , 0. +0.j       , 0. +0.j       , 0. +0.j       ,\n",
       "        0. +0.j       , 0. +0.j       , 0. +0.j       , 0. +0.j       ,\n",
       "        0. +0.j       , 0. +0.j       , 0. +0.j       , 0. +0.j       ,\n",
       "        0. +0.j       , 0. +0.j       , 0. +0.j       , 0. +0.9797959j], requires_grad=True)"
      ]
     },
     "execution_count": 14,
     "metadata": {},
     "output_type": "execute_result"
    }
   ],
   "source": [
    "import pennylane as qml\n",
    "from pennylane import numpy as np\n",
    "\n",
    "dev = qml.device(\"default.qubit\", wires=5)\n",
    "\n",
    "@qml.qnode(dev)\n",
    "def circuit():\n",
    "    qml.RY(2*np.arcsin(np.sqrt(24/25)), wires=0)\n",
    "    qml.S(wires=0)\n",
    "\n",
    "    qml.CNOT(wires=[0, 1])\n",
    "    qml.CNOT(wires=[1, 2])\n",
    "    qml.CNOT(wires=[2, 3])\n",
    "    qml.CNOT(wires=[3, 4])\n",
    "\n",
    "    return qml.state()\n",
    "\n",
    "\n",
    "circuit()\n"
   ]
  },
  {
   "cell_type": "code",
   "execution_count": 6,
   "id": "ecaefecd",
   "metadata": {},
   "outputs": [
    {
     "data": {
      "text/plain": [
       "0.96"
      ]
     },
     "execution_count": 6,
     "metadata": {},
     "output_type": "execute_result"
    }
   ],
   "source": [
    "24/25"
   ]
  },
  {
   "cell_type": "markdown",
   "id": "54e62bfb",
   "metadata": {},
   "source": [
    "#### 4. Removing the ancilla <a id=\"ancilla\"></a>"
   ]
  },
  {
   "cell_type": "code",
   "execution_count": 4,
   "id": "a8a967f9",
   "metadata": {},
   "outputs": [],
   "source": [
    "def grover(n_qubits, id, iterations=\"optimal\"):\n",
    "\n",
    "    #create registers \n",
    "    input_registers = range(n_qubits)\n",
    "    #ancilla_register = [n_qubits]\n",
    "\n",
    "    #superposition\n",
    "    qml.broadcast(qml.Hadamard, wires=input_registers, pattern=\"single\")\n",
    "\n",
    "    #qml.PauliX(wires=ancilla_register)\n",
    "    #qml.Hadamard(wires=ancilla_register)\n",
    "\n",
    "    qml.Barrier()\n",
    "\n",
    "    if iterations == \"optimal\":\n",
    "        its = int(np.floor(np.pi/4*np.sqrt(2**n_qubits)))\n",
    "    else:\n",
    "        its = iterations\n",
    "        \n",
    "    for _ in range(its):\n",
    "        #oracle\n",
    "        for i,k in enumerate(id):\n",
    "            if k == 0:\n",
    "                qml.PauliX(wires=input_registers[i])\n",
    "        qml.ControlledQubitUnitary(qml.PauliZ(input_registers[-1]), control_wires=input_registers[:-1])\n",
    "        for i,k in enumerate(id):\n",
    "            if k == 0:\n",
    "                qml.PauliX(wires=input_registers[i])\n",
    "\n",
    "        #or using the MultiControlledX gate with control state\n",
    "        #qml.MultiControlledX(control_wires=input_registers, wires=ancilla_register, control_values=id)\n",
    "\n",
    "        qml.Barrier()\n",
    "        \n",
    "        #diffusion\n",
    "        qml.broadcast(qml.Hadamard, wires=input_registers, pattern=\"single\")\n",
    "        qml.broadcast(qml.PauliX, wires=input_registers, pattern=\"single\")\n",
    "        qml.ControlledQubitUnitary(qml.PauliZ(input_registers[-1]), control_wires=input_registers[:-1])\n",
    "        qml.broadcast(qml.PauliX, wires=input_registers, pattern=\"single\")\n",
    "        qml.broadcast(qml.Hadamard, wires=input_registers, pattern=\"single\")\n",
    "\n",
    "        qml.Barrier()\n",
    "    \n",
    "\n",
    "    #measurement\n",
    "    return qml.probs(wires=input_registers)"
   ]
  },
  {
   "cell_type": "code",
   "execution_count": 7,
   "id": "fbd5fc75",
   "metadata": {},
   "outputs": [
    {
     "data": {
      "text/plain": [
       "Text(0.5, 1.0, 'Probability Distribution')"
      ]
     },
     "execution_count": 7,
     "metadata": {},
     "output_type": "execute_result"
    },
    {
     "data": {
      "image/png": "[encoded data removed]",
      "text/plain": [
       "<Figure size 640x480 with 1 Axes>"
      ]
     },
     "metadata": {},
     "output_type": "display_data"
    }
   ],
   "source": [
    "#Run the algorithm\n",
    "\n",
    "n_qubits = 3\n",
    "id = [1,0,1]\n",
    "itarations = 1\n",
    "\n",
    "dev = qml.device(\"default.qubit\", wires=n_qubits)\n",
    "\n",
    "Grover = qml.QNode(grover, dev)\n",
    "\n",
    "probs = Grover(n_qubits, id, iterations=itarations)\n",
    "\n",
    "#Visualize the probability histogram\n",
    "import matplotlib.pyplot as plt\n",
    "plt.bar([np.binary_repr(i, width=n_qubits) for i in range(2**n_qubits)], probs)\n",
    "\n",
    "plt.xlabel(\"Basis State\")\n",
    "plt.ylabel(\"Probability\")\n",
    "plt.yticks(probs)\n",
    "plt.title(\"Probability Distribution\")\n",
    "\n"
   ]
  },
  {
   "cell_type": "markdown",
   "id": "a39cabaf",
   "metadata": {},
   "source": [
    "#### 5. Uknown number of solutions <a id=\"unknown\"></a>"
   ]
  },
  {
   "cell_type": "code",
   "execution_count": 1,
   "id": "b75643ad",
   "metadata": {},
   "outputs": [],
   "source": [
    "import pennylane as qml\n",
    "from pennylane import numpy as np\n"
   ]
  },
  {
   "cell_type": "code",
   "execution_count": null,
   "id": "9946ffb4",
   "metadata": {},
   "outputs": [],
   "source": [
    "def grover(n_qubits, iterations=\"optimal\"):\n",
    "\n",
    "    #create registers \n",
    "    input_registers = range(n_qubits)\n",
    "    #ancilla_register = [n_qubits]\n",
    "\n",
    "    #superposition\n",
    "    qml.broadcast(qml.Hadamard, wires=input_registers, pattern=\"single\")\n",
    "\n",
    "    #qml.PauliX(wires=ancilla_register)\n",
    "    #qml.Hadamard(wires=ancilla_register)\n",
    "\n",
    "    qml.Barrier()\n",
    "\n",
    "    if iterations == \"optimal\":\n",
    "        its = int(np.round(np.pi/4*np.sqrt(2**n_qubits)))\n",
    "    else:\n",
    "        its = iterations\n",
    "        \n",
    "    for _ in range(its):\n",
    "        #oracle\n",
    "        qml.Adder(1, input_registers, 2**n_qubits)\n",
    "        \n",
    "        for i,k in enumerate([0,0,0,0,0,1]):\n",
    "            if k == 0:\n",
    "                qml.PauliX(wires=input_registers[i])\n",
    "        qml.ControlledQubitUnitary(qml.PauliZ(input_registers[-1]), control_wires=input_registers[:-1])\n",
    "        for i,k in enumerate([0,0,0,0,0,1]):\n",
    "            if k == 0:\n",
    "                qml.PauliX(wires=input_registers[i])\n",
    "\n",
    "        for i,k in enumerate([0,0,0,0,1,0]):\n",
    "            if k == 0:\n",
    "                qml.PauliX(wires=input_registers[i])\n",
    "        qml.ControlledQubitUnitary(qml.PauliZ(input_registers[-1]), control_wires=input_registers[:-1])\n",
    "        for i,k in enumerate([0,0,0,0,1,0]):\n",
    "            if k == 0:\n",
    "                qml.PauliX(wires=input_registers[i])\n",
    "\n",
    "        for i,k in enumerate([0,0,0,0,1,1]):\n",
    "            if k == 0:\n",
    "                qml.PauliX(wires=input_registers[i])\n",
    "        qml.ControlledQubitUnitary(qml.PauliZ(input_registers[-1]), control_wires=input_registers[:-1])\n",
    "        for i,k in enumerate([0,0,0,0,1,1]):\n",
    "            if k == 0:\n",
    "                qml.PauliX(wires=input_registers[i])\n",
    "    \n",
    "        qml.Adder(-1, input_registers, 2**n_qubits)\n",
    "\n",
    "\n",
    "        #or using the MultiControlledX gate with control state\n",
    "        #qml.MultiControlledX(control_wires=input_registers, wires=ancilla_register, control_values=id)\n",
    "\n",
    "        qml.Barrier()\n",
    "        \n",
    "        #diffusion\n",
    "        qml.broadcast(qml.Hadamard, wires=input_registers, pattern=\"single\")\n",
    "        qml.broadcast(qml.PauliX, wires=input_registers, pattern=\"single\")\n",
    "        qml.ControlledQubitUnitary(qml.PauliZ(input_registers[-1]), control_wires=input_registers[:-1])\n",
    "        qml.broadcast(qml.PauliX, wires=input_registers, pattern=\"single\")\n",
    "        qml.broadcast(qml.Hadamard, wires=input_registers, pattern=\"single\")\n",
    "\n",
    "        qml.Barrier()\n",
    "    \n",
    "\n",
    "    #measurement\n",
    "    return qml.probs(wires=input_registers)"
   ]
  },
  {
   "cell_type": "code",
   "execution_count": 32,
   "id": "a4239202",
   "metadata": {},
   "outputs": [
    {
     "data": {
      "text/plain": [
       "Text(0.5, 1.0, 'Probability Distribution')"
      ]
     },
     "execution_count": 32,
     "metadata": {},
     "output_type": "execute_result"
    },
    {
     "data": {
      "image/png": "[encoded data removed]",
      "text/plain": [
       "<Figure size 640x480 with 1 Axes>"
      ]
     },
     "metadata": {},
     "output_type": "display_data"
    }
   ],
   "source": [
    "#Run the algorithm\n",
    "\n",
    "n_qubits = 6\n",
    "itarations = 1\n",
    "\n",
    "dev = qml.device(\"default.qubit\")#, wires=n_qubits)\n",
    "\n",
    "Grover = qml.QNode(grover, dev)\n",
    "\n",
    "probs = Grover(n_qubits, iterations=itarations)\n",
    "\n",
    "#Visualize the probability histogram\n",
    "import matplotlib.pyplot as plt\n",
    "plt.bar([np.binary_repr(i, width=n_qubits) for i in range(2**n_qubits)], probs)\n",
    "\n",
    "plt.xlabel(\"Basis State\")\n",
    "plt.ylabel(\"Probability\")\n",
    "plt.yticks(probs)\n",
    "plt.title(\"Probability Distribution\")\n",
    "\n"
   ]
  },
  {
   "cell_type": "code",
   "execution_count": 21,
   "id": "3d96856c",
   "metadata": {},
   "outputs": [
    {
     "data": {
      "text/plain": [
       "3.6275987284684352"
      ]
     },
     "execution_count": 21,
     "metadata": {},
     "output_type": "execute_result"
    }
   ],
   "source": [
    "np.pi/4*np.sqrt(2**6 / 3)"
   ]
  },
  {
   "cell_type": "code",
   "execution_count": 38,
   "id": "92dd6b40",
   "metadata": {},
   "outputs": [
    {
     "data": {
      "text/plain": [
       "5.0"
      ]
     },
     "execution_count": 38,
     "metadata": {},
     "output_type": "execute_result"
    }
   ],
   "source": [
    "np.ceil(4.3)"
   ]
  },
  {
   "cell_type": "code",
   "execution_count": null,
   "id": "1edec68d",
   "metadata": {},
   "outputs": [],
   "source": []
  }
 ],
 "metadata": {
  "kernelspec": {
   "display_name": "jaxqrl",
   "language": "python",
   "name": "python3"
  },
  "language_info": {
   "codemirror_mode": {
    "name": "ipython",
    "version": 3
   },
   "file_extension": ".py",
   "mimetype": "text/x-python",
   "name": "python",
   "nbconvert_exporter": "python",
   "pygments_lexer": "ipython3",
   "version": "3.9.18"
  }
 },
 "nbformat": 4,
 "nbformat_minor": 5
}
