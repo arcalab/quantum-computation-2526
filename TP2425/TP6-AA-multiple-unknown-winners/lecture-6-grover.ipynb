{
 "cells": [
  {
   "cell_type": "markdown",
   "id": "advance-helmet",
   "metadata": {},
   "source": [
    "##### Quantum Computing 2024/2025\n",
    "### Lecture 5 - Grover's Algorithm\n",
    "\n",
    "\n",
    "1. [Grover's Algorithm](#Grover) <p>\n",
    "   a.  [Unstructured search](#unstructured-search) <p>\n",
    "   b.  [Oracle](#oracle_intro) <p>\n",
    "   c.  [Amplitude Amplification](#amplitude_amp) <p>\n",
    "2. [Grover's algorithm with 2 qubits](#grover2)\n",
    "3. [Grover's algorithm with 3 qubits](#grover3)\n",
    "4. [Amplitude Amplification and multiple winner states](#multiple)\n",
    "5. [Removing the ancilla](#ancilla)\n",
    "6. [Unknown number of winners](#unknown)"
   ]
  },
  {
   "cell_type": "markdown",
   "id": "aed9076f",
   "metadata": {},
   "source": [
    "## 1. Grover's algorithm <a id=\"grover\"></a>"
   ]
  },
  {
   "attachments": {},
   "cell_type": "markdown",
   "id": "5ba8a226",
   "metadata": {},
   "source": [
    "Grover's algorithm is one of the most powerful quantum algorithms. The algorithm is known for a quadratic speed up in searching for an element in an **unstructured database**. \n",
    "\n",
    "Grover's algorithm can be used in any problem that can be restated as an unstructured search problem:\n",
    "\n",
    "* Finding minimum/maximum/mean \n",
    "* Collision problem \n",
    "* Satisfiability \n",
    "* Optimization in general. "
   ]
  },
  {
   "cell_type": "markdown",
   "id": "3504b7fd",
   "metadata": {},
   "source": [
    "### a. Unstructured Search <a id=\"unstructured-search\"></a>\n",
    "\n",
    "Suppose you have an array of $N$ items. Consider that $w$ for winner is the element we want to find. \n",
    "\n",
    "![image1](images/list.png)\n",
    "\n",
    "Classic $\\quad \\Rightarrow \\quad \\mathcal{O}(N)$\n",
    "\n",
    "Quantum $\\quad \\Rightarrow \\quad \\mathcal{O}(\\sqrt{N})$"
   ]
  },
  {
   "cell_type": "markdown",
   "id": "0ef253e9",
   "metadata": {},
   "source": [
    "### b. Oracle\n",
    "\n",
    "Notice that we want to exploit the superposition principle, therefore, all entries in the above database will happen at the same time! Thus, for us, the database is composed by all computational basis states our qubits can be in.\n",
    "\n",
    "The oracle $U_w$ adds a negative phase to the solution states i.e. for any state $|x\\rangle$ in the computational basis corresponding to the winner:\n",
    "\n",
    "$$\n",
    "U_\\omega|x\\rangle = \\bigg\\{\n",
    "\\begin{aligned}\n",
    "\\phantom{-}|x\\rangle \\quad \\text{if} \\; x \\neq \\omega \\\\\n",
    "-|x\\rangle \\quad \\text{if} \\; x = \\omega \\\\\n",
    "\\end{aligned}\n",
    "$$\n",
    "\n",
    "we can use an ancilla to store the result of the function! \n",
    "\n",
    "\n",
    "Similar to Deutsch-Jozsa, we initialize the 'output' qubit in the state $|{-}\\rangle$, and the phase kickback effect do the rest.\n",
    "</p><p>  \n",
    "\n",
    "![image1](images/function.png)\n"
   ]
  },
  {
   "cell_type": "markdown",
   "id": "a3b448fe",
   "metadata": {},
   "source": [
    "Now, the goal is to find a routine that amplifies the probability of measuring the winner state! "
   ]
  },
  {
   "cell_type": "markdown",
   "id": "ff07fff4",
   "metadata": {},
   "source": [
    "### c. Amplitude Amplification <a id=\"amplitude_amp\"></a>\n",
    "\n",
    "The Diffusion operator $D$ is a reflection about the mean of the amplitudes. It is defined as:\n",
    "\n",
    "$$D = 2|DB \\rangle \\langle DB| - I$$\n",
    "\n",
    "where |DB\\rangle is the database superposition quantum state. D amplifies the amplitude of the winner state.\n",
    "\n",
    "Full Grover's circuit is:\n",
    "![image5](images/full_circuit.png)"
   ]
  },
  {
   "cell_type": "markdown",
   "id": "32b60ee3",
   "metadata": {},
   "source": [
    "## 2. Grover's algorithm with 2 qubits <a id=\"grover2\"></a>"
   ]
  },
  {
   "cell_type": "markdown",
   "id": "ffecbba2",
   "metadata": {},
   "source": [
    "Let's suppose we want to find the state $|11\\rangle$.\n",
    "Build the Grover's algorithm and check the probabilities "
   ]
  },
  {
   "cell_type": "code",
   "execution_count": null,
   "id": "e875b643",
   "metadata": {},
   "outputs": [],
   "source": [
    "import pennylane as qml\n",
    "from pennylane import numpy as np\n",
    "\n",
    "def grover(n_qubits, id):\n",
    "\n",
    "    #create registers \n",
    "\n",
    "    #superposition\n",
    "    \n",
    "    #oracle\n",
    "\n",
    "    #or using the MultiControlledX gate with control state\n",
    "    #qml.MultiControlledX(control_wires=input_registers, wires=ancilla_register, control_values=id)\n",
    "\n",
    "    #diffusion\n",
    "\n",
    "\n",
    "    #measurement\n"
   ]
  },
  {
   "cell_type": "code",
   "execution_count": null,
   "id": "c4c505a5",
   "metadata": {},
   "outputs": [],
   "source": [
    "#visualize the circuit\n",
    "\n"
   ]
  },
  {
   "cell_type": "code",
   "execution_count": null,
   "id": "724cc469",
   "metadata": {},
   "outputs": [],
   "source": [
    "#Run the algorithm\n",
    "\n",
    "\n",
    "#Visualize the probability histogram\n",
    "import matplotlib.pyplot as plt\n",
    "plt.bar([np.binary_repr(i, width=n_qubits) for i in range(2**n_qubits)], probs)\n",
    "plt.xlabel(\"Basis State\")\n",
    "plt.ylabel(\"Probability\")\n",
    "plt.yticks(probs)\n",
    "plt.title(\"Probability Distribution\")\n"
   ]
  },
  {
   "attachments": {},
   "cell_type": "markdown",
   "id": "510e8c57",
   "metadata": {},
   "source": [
    "## 3. Grover's algorithm with 3 qubits <a id=\"grover3\"></a>  \n"
   ]
  },
  {
   "attachments": {},
   "cell_type": "markdown",
   "id": "2804e264",
   "metadata": {},
   "source": [
    "Let's suppose we want to find the state $|011\\rangle$. Run Grover's algorithm and check the probabilities."
   ]
  },
  {
   "cell_type": "code",
   "execution_count": null,
   "id": "f3422041",
   "metadata": {},
   "outputs": [],
   "source": [
    "#Run the algorithm and visualize the probability histogram"
   ]
  },
  {
   "cell_type": "markdown",
   "id": "057d4ff3",
   "metadata": {},
   "source": [
    "## 4. Amplitude Amplification and multiple winner states <a id=\"multiple\"></a>"
   ]
  },
  {
   "cell_type": "markdown",
   "id": "bf79e486",
   "metadata": {},
   "source": [
    "1) Let's suppose we want to find one of the states $\\{|000\\rangle , |001\\rangle \\}$. \n",
    "2) Let's suppose we want to find one of the states $\\{|0000\\rangle , |0010\\rangle , |0100\\rangle , |1000\\rangle \\}$.\n",
    "\n",
    "What do 1) and 2) have in common?"
   ]
  },
  {
   "cell_type": "code",
   "execution_count": null,
   "id": "71670722",
   "metadata": {},
   "outputs": [],
   "source": []
  },
  {
   "cell_type": "markdown",
   "id": "f569908b",
   "metadata": {},
   "source": [
    "## 5. Removing the ancilla <a id=\"ancilla\"></a>\n",
    "\n",
    "Rewrite the Grover's algorithm without the ancilla qubit - find one of the states $\\{|0000\\rangle , |0010\\rangle , |0100\\rangle , |1000\\rangle \\}$."
   ]
  },
  {
   "cell_type": "markdown",
   "id": "bf0f00fe",
   "metadata": {},
   "source": []
  },
  {
   "cell_type": "markdown",
   "id": "6ce61b79",
   "metadata": {},
   "source": [
    "## 6. Unknown number of winners <a id=\"unknown\"></a>"
   ]
  },
  {
   "cell_type": "code",
   "execution_count": 8,
   "id": "ae6a5761",
   "metadata": {},
   "outputs": [],
   "source": [
    "from oracle import QuantumOracle\n",
    "import pennylane as qml\n",
    "\n",
    "n_qubits = 6\n",
    "input_registers = range(n_qubits)\n",
    "oracle = QuantumOracle(input_registers, n_qubits, \"sol.json\")"
   ]
  },
  {
   "cell_type": "code",
   "execution_count": 9,
   "id": "1b2a3566",
   "metadata": {},
   "outputs": [],
   "source": [
    "def grover(n_qubits):\n",
    "\n",
    "    #create registers \n",
    "    input_registers = range(n_qubits)\n",
    "\n",
    "    for _ in range(iterations):\n",
    "        #oracle\n",
    "        oracle.apply_oracle()\n",
    "\n",
    "\n",
    "    #measurement\n",
    "    return qml.sample(wires=input_registers)"
   ]
  },
  {
   "cell_type": "markdown",
   "id": "20cd4e3a",
   "metadata": {},
   "source": []
  },
  {
   "cell_type": "code",
   "execution_count": null,
   "id": "78f25c2d",
   "metadata": {},
   "outputs": [],
   "source": []
  }
 ],
 "metadata": {
  "kernelspec": {
   "display_name": "jaxqrl",
   "language": "python",
   "name": "python3"
  },
  "language_info": {
   "codemirror_mode": {
    "name": "ipython",
    "version": 3
   },
   "file_extension": ".py",
   "mimetype": "text/x-python",
   "name": "python",
   "nbconvert_exporter": "python",
   "pygments_lexer": "ipython3",
   "version": "3.9.18"
  }
 },
 "nbformat": 4,
 "nbformat_minor": 5
}
